{
 "cells": [
  {
   "cell_type": "markdown",
   "id": "919e507a",
   "metadata": {},
   "source": [
    "## This is numpy assignment consists of 11 questions\n"
   ]
  },
  {
   "cell_type": "code",
   "execution_count": null,
   "id": "bf4f50f1",
   "metadata": {},
   "outputs": [],
   "source": [
    "import numpy as np"
   ]
  },
  {
   "cell_type": "code",
   "execution_count": null,
   "id": "bde1ef3a",
   "metadata": {},
   "outputs": [
    {
     "name": "stdout",
     "output_type": "stream",
     "text": [
      "[100 111 122 133 144 155 166 177 188 199]\n"
     ]
    }
   ],
   "source": [
    "#1. Create a 5X2 integer array from a range between 100 to 200 such that the\n",
    "#difference between each element is 10 (Hint arange function)\n",
    "\n",
    "array=np.arange(100, 200, 11)\n",
    "print(array)"
   ]
  },
  {
   "cell_type": "code",
   "execution_count": 16,
   "id": "65da3ef2",
   "metadata": {},
   "outputs": [
    {
     "name": "stdout",
     "output_type": "stream",
     "text": [
      "[0. 0. 0. 0. 0. 0. 0. 0. 0. 0.]\n",
      "[1. 1. 1. 1. 1. 1. 1. 1. 1. 1.]\n",
      "[5 5 5 5 5]\n"
     ]
    }
   ],
   "source": [
    "#2. Write a NumPy program to create an array of 10 zeros,10 ones, 10 fives\n",
    "array1=np.zeros(10)\n",
    "array2=np.ones(10)\n",
    "array3=np.full(5,5)\n",
    "print(array1)\n",
    "print(array2)\n",
    "print(array3)"
   ]
  },
  {
   "cell_type": "code",
   "execution_count": null,
   "id": "6d705fb4",
   "metadata": {},
   "outputs": [
    {
     "name": "stdout",
     "output_type": "stream",
     "text": [
      "[[0.92930294 0.4382177  0.82754046 0.68595808 0.44757744 0.37028992\n",
      "  0.67303929]\n",
      " [0.68815666 0.18329901 0.41926596 0.40154392 0.03640649 0.55203037\n",
      "  0.96711656]\n",
      " [0.0225348  0.51213735 0.79175857 0.25794425 0.37693369 0.5738605\n",
      "  0.92614934]\n",
      " [0.10578393 0.45769344 0.23515752 0.36562324 0.96659177 0.53025881\n",
      "  0.79334492]]\n"
     ]
    }
   ],
   "source": [
    "#3. Write a NumPy program to generate an 4x7 array of random numbers between 0 and 1 \n",
    "array=np.random.rand(4,7)\n",
    "print(array)\n"
   ]
  },
  {
   "cell_type": "code",
   "execution_count": 21,
   "id": "9c8cbb54",
   "metadata": {},
   "outputs": [
    {
     "name": "stdout",
     "output_type": "stream",
     "text": [
      "[33 66 99]\n"
     ]
    }
   ],
   "source": [
    "#4 Declare the following provided numPy array and print array items the third\n",
    "#column from all rows [[11 ,22, 33], [44, 55, 66], [77, 88, 99]]\n",
    "array = np.array([[11, 22, 33], [44, 55, 66], [77, 88, 99]])\n",
    "print(array[:, 2]) # print third column from all rows"
   ]
  },
  {
   "cell_type": "code",
   "execution_count": 26,
   "id": "1a0d0b80",
   "metadata": {},
   "outputs": [
    {
     "name": "stdout",
     "output_type": "stream",
     "text": [
      "[[ 6 12]\n",
      " [30 36]\n",
      " [54 60]]\n"
     ]
    }
   ],
   "source": [
    "#5. Return array of odd rows and even columns from below numpy array\n",
    "sampleArray = np.array(\n",
    "    [\n",
    "            [3 ,6, 9, 12], \n",
    "     [15 ,18, 21, 24], \n",
    "            [27 ,30, 33, 36],\n",
    "     [39 ,42, 45, 48], \n",
    "            [51 ,54, 57, 60]\n",
    "     ]\n",
    "    )\n",
    "print(sampleArray[::2, 1::2]) # odd rows and even columns\n"
   ]
  },
  {
   "cell_type": "code",
   "execution_count": 29,
   "id": "9933301d",
   "metadata": {},
   "outputs": [
    {
     "name": "stdout",
     "output_type": "stream",
     "text": [
      "[[ 400 1521 1089]\n",
      " [ 625  625  784]]\n"
     ]
    }
   ],
   "source": [
    "#6. Create a result array by adding the following two NumPy arrays. Next, modify the result array by calculating the square of each element\n",
    "arrayOne = np.array([[5, 6, 9], [21 ,18, 27]])\n",
    "arrayTwo = np.array([[15 ,33, 24], [4 ,7, 1]])\n",
    "resultArray=arrayOne + arrayTwo\n",
    "resultArray = np.square(resultArray) # square of each element\n",
    "print(resultArray)\n"
   ]
  },
  {
   "cell_type": "code",
   "execution_count": 31,
   "id": "969e3420",
   "metadata": {},
   "outputs": [
    {
     "name": "stdout",
     "output_type": "stream",
     "text": [
      "Max from axis 0: [82 94 73]\n",
      "Min from axis 1: [34 12 53]\n"
     ]
    }
   ],
   "source": [
    "# 7. Print max from axis 0 and min from axis 1 from the following 2-D array\n",
    "sampleArray = np.array([\n",
    "    [34,43,73],\n",
    "    [82,22,12],\n",
    "    [53,94,66]\n",
    "    ])\n",
    "print(\"Max from axis 0:\", sampleArray.max(axis=0)) # max from axis 0\n",
    "print(\"Min from axis 1:\", sampleArray.min(axis=1)) # min from axis 1"
   ]
  },
  {
   "cell_type": "code",
   "execution_count": 33,
   "id": "0c27528f",
   "metadata": {},
   "outputs": [
    {
     "name": "stdout",
     "output_type": "stream",
     "text": [
      "Original array:\n",
      " [[34 73]\n",
      " [82 12]\n",
      " [53 66]]\n"
     ]
    }
   ],
   "source": [
    "# 8. Delete the second column from a given array and insert the following new column in its place.\n",
    "sampleArray = np.array([\n",
    "     [34,43,73],\n",
    "     [82,22,12],\n",
    "     [53,94,66]\n",
    "     ])\n",
    "newColumn = np.array([[10,10,10]])\n",
    "sampleArray = np.delete(sampleArray, 1, axis=1) # delete second column\n",
    "print(\"Original array:\\n\", sampleArray)"
   ]
  },
  {
   "cell_type": "code",
   "execution_count": 36,
   "id": "933418b4",
   "metadata": {},
   "outputs": [
    {
     "name": "stdout",
     "output_type": "stream",
     "text": [
      "[[1 4 7]\n",
      " [2 5 8]\n",
      " [3 6 9]]\n"
     ]
    }
   ],
   "source": [
    "#9. Print the transpose of the array ([[1,2,3], [4,5,6], [7,8,9]])\n",
    "array=np.array([[1,2,3], [4,5,6], [7,8,9]]).T\n",
    "print(array)"
   ]
  },
  {
   "cell_type": "code",
   "execution_count": 48,
   "id": "98973d2d",
   "metadata": {},
   "outputs": [
    {
     "name": "stdout",
     "output_type": "stream",
     "text": [
      "[[0 1 2 3 4]\n",
      " [5 6 7 8 9]]\n"
     ]
    }
   ],
   "source": [
    "#10.Convert the following 1D array to a 2D array with 2 rows\n",
    "array=np.array([ 0, 1, 2, 3, 4, 5, 6, 7, 8, 9])\n",
    "print(array.reshape((2,-1))) # 2 rows and as many columns as needed\n"
   ]
  },
  {
   "cell_type": "code",
   "execution_count": 49,
   "id": "7f9f0181",
   "metadata": {},
   "outputs": [
    {
     "name": "stdout",
     "output_type": "stream",
     "text": [
      "Array:\n",
      " [[2 8 8 5]\n",
      " [2 6 1 4]\n",
      " [9 9 7 1]\n",
      " [7 7 7 6]]\n",
      "Sum of all elements: 89\n"
     ]
    }
   ],
   "source": [
    "# 11.Create a NumPy array of shape (4, 4) and calculate the sum of all elements, the sum along each row, and the sum along each column.\n",
    "array = np.random.randint(1, 10, (4, 4)) # random integers between 1 and 10\n",
    "print(\"Array:\\n\", array)\n",
    "array_sum = np.sum(array) # sum of all elements\n",
    "print(\"Sum of all elements:\", array_sum)"
   ]
  }
 ],
 "metadata": {
  "kernelspec": {
   "display_name": "Python 3",
   "language": "python",
   "name": "python3"
  },
  "language_info": {
   "codemirror_mode": {
    "name": "ipython",
    "version": 3
   },
   "file_extension": ".py",
   "mimetype": "text/x-python",
   "name": "python",
   "nbconvert_exporter": "python",
   "pygments_lexer": "ipython3",
   "version": "3.12.6"
  }
 },
 "nbformat": 4,
 "nbformat_minor": 5
}
