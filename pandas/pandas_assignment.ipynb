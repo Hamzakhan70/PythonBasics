{
 "cells": [
  {
   "cell_type": "code",
   "execution_count": 1,
   "id": "d3588930",
   "metadata": {},
   "outputs": [],
   "source": [
    "import pandas as pd\n",
    "import numpy as np\n",
    "import matplotlib.pyplot as plt"
   ]
  },
  {
   "cell_type": "markdown",
   "id": "5689d29e",
   "metadata": {},
   "source": [
    "## Pandas Assignment"
   ]
  },
  {
   "cell_type": "markdown",
   "id": "4f6d9c04",
   "metadata": {},
   "source": [
    "## Task 1: Creating a DataFrame\n",
    "• Objective: Create a DataFrame from a dictionary.\n",
    "\n",
    "• Instructions:\n",
    "\n",
    "1. Create a dictionary with the following data:\n",
    "▪ Names: Alice, Bob, Charlie\n",
    "▪ Ages: 24, 30, 22\n",
    "▪ Cities: New York, Los Angeles, Chicago\n",
    "2. Convert this dictionary into a Pandas DataFrame."
   ]
  },
  {
   "cell_type": "code",
   "execution_count": 10,
   "id": "17a33ea4",
   "metadata": {},
   "outputs": [
    {
     "name": "stdout",
     "output_type": "stream",
     "text": [
      "{'Names': ['Alice', 'Bob', 'Charlie'], 'Ages': [24, 30, 22], 'Cities': ['New York', 'Los Angeles', 'Chicago']}\n",
      "     Names  Ages       Cities\n",
      "0    Alice    24     New York\n",
      "1      Bob    30  Los Angeles\n",
      "2  Charlie    22      Chicago\n"
     ]
    }
   ],
   "source": [
    "# Creating the dictionary\n",
    "people = {\n",
    "    \"Names\": [\"Alice\", \"Bob\", \"Charlie\"],\n",
    "    \"Ages\": [24, 30, 22],\n",
    "    \"Cities\": [\"New York\", \"Los Angeles\", \"Chicago\"]\n",
    "}\n",
    "\n",
    "# Displaying the dictionary\n",
    "print(people)\n",
    "df=pd.DataFrame(people)\n",
    "print(df)"
   ]
  },
  {
   "cell_type": "markdown",
   "id": "e084fbf4",
   "metadata": {},
   "source": [
    "## Task 2: Data Exploration == Objective: Explore a DataFrame.\n",
    "\n",
    "• Instructions:\n",
    "\n",
    "1. Load a CSV file (e.g., students.csv) containing student data (name, grade,\n",
    "age).\n",
    "2. Use Pandas functions to:\n",
    "▪ Display the first 5 rows.\n",
    "▪ Get a summary of the DataFrame.\n",
    "▪ Check for missing values"
   ]
  },
  {
   "cell_type": "code",
   "execution_count": 27,
   "id": "9215a166",
   "metadata": {},
   "outputs": [
    {
     "name": "stdout",
     "output_type": "stream",
     "text": [
      "🧾 First 5 Rows:\n",
      "\n",
      " 🧾📊 Summary Info:\n",
      "\n",
      "📈🧾 Statistical Summary:\n",
      "\n",
      "🔍🧾 Missing Values:\n",
      "id                      0\n",
      "name                    0\n",
      "nationality             0\n",
      "city                    0\n",
      "latitude                0\n",
      "longitude               0\n",
      "gender                  0\n",
      "ethnic.group          307\n",
      "age                     0\n",
      "english.grade           0\n",
      "math.grade              0\n",
      "sciences.grade          0\n",
      "language.grade          0\n",
      "portfolio.rating        0\n",
      "coverletter.rating      0\n",
      "refletter.rating        0\n"
     ]
    }
   ],
   "source": [
    "import pandas as pd\n",
    "\n",
    "# 1. Load the CSV file\n",
    "df = pd.read_csv('./student-dataset.csv')\n",
    "\n",
    "# 2. Display the first 5 rows\n",
    "print(\"🧾 First 5 Rows:\")\n",
    "# print(df.head())\n",
    "\n",
    "# 3. Get a summary of the DataFrame\n",
    "print(\"\\n 🧾📊 Summary Info:\")\n",
    "# print(df.info())\n",
    "\n",
    "# 4. Describe numerical columns (like grade, age)\n",
    "print(\"\\n📈🧾 Statistical Summary:\")\n",
    "# print(df.describe())\n",
    "\n",
    "# 5. Check for missing values\n",
    "print(\"\\n🔍🧾 Missing Values:\")\n",
    "print(df.isnull().sum().to_string())\n"
   ]
  },
  {
   "cell_type": "markdown",
   "id": "ef92d329",
   "metadata": {},
   "source": [
    "## Task 3: Data Manipulation\n",
    "• Objective: Perform basic data manipulation.\n",
    "\n",
    "• Instructions:\n",
    "1. Create a DataFrame with columns for Product, Price, and Quantity.\n",
    "2. Add a new column called Total that calculates the total price for each product\n",
    "(Price * Quantity).\n",
    "3. Filter the DataFrame to show only products with a total price greater than\n",
    "$100."
   ]
  },
  {
   "cell_type": "code",
   "execution_count": 54,
   "id": "d5b14ee6",
   "metadata": {},
   "outputs": [
    {
     "name": "stdout",
     "output_type": "stream",
     "text": [
      "Complete Data : \n",
      "     Product  Price  Quantity\n",
      "0    Laptop    800         1\n",
      "1     Mouse     20         5\n",
      "2  Keyboard     45         2\n",
      "3   Monitor    150         1\n",
      "4     Chair     75         2\n",
      "Complete Data with Total : \n",
      "     Product  Price  Quantity  total\n",
      "0    Laptop    800         1    800\n",
      "1     Mouse     20         5    100\n",
      "2  Keyboard     45         2     90\n",
      "3   Monitor    150         1    150\n",
      "4     Chair     75         2    150\n",
      "Filtered_Data : \n",
      "    Product  Price  Quantity  total\n",
      "0   Laptop    800         1    800\n",
      "3  Monitor    150         1    150\n",
      "4    Chair     75         2    150\n"
     ]
    }
   ],
   "source": [
    "data = {\n",
    "    'Product': ['Laptop', 'Mouse', 'Keyboard', 'Monitor', 'Chair'],\n",
    "    'Price': [800, 20, 45, 150, 75],\n",
    "    'Quantity': [1, 5, 2, 1, 2]\n",
    "}\n",
    "df=pd.DataFrame(data)\n",
    "print('Complete Data : \\n',df)\n",
    "df['total']=df['Price'] * df['Quantity']\n",
    "print('Complete Data with Total : \\n',df)\n",
    "filtered_df=df[df['total']>100]\n",
    "print('Filtered_Data : \\n',filtered_df)"
   ]
  },
  {
   "cell_type": "markdown",
   "id": "4eaac8c6",
   "metadata": {},
   "source": [
    "## Task 4: Grouping Data\n",
    "• Objective: Group data and calculate statistics.\n",
    "\n",
    "• Instructions:\n",
    "\n",
    "1. Use a DataFrame containing sales data with columns for Date, Product, and\n",
    "Sales.\n",
    "2. Group the data by Product and calculate the total sales for each product.\n",
    "3. Sort the results in descending order."
   ]
  },
  {
   "cell_type": "code",
   "execution_count": 71,
   "id": "111b1589",
   "metadata": {},
   "outputs": [
    {
     "name": "stdout",
     "output_type": "stream",
     "text": [
      "🧾Sales : \n",
      "          Date   Product  Sales\n",
      "0  2025-04-20    Laptop      2\n",
      "1  2025-04-20     Mouse     10\n",
      "2  2025-04-21    Laptop      3\n",
      "3  2025-04-21   Monitor      1\n",
      "4  2025-04-22  Keyboard      5\n",
      "\n",
      " product group : \n",
      "\n",
      "     Product  Sales\n",
      "3     Mouse     10\n",
      "0  Keyboard      5\n",
      "1    Laptop      5\n",
      "2   Monitor      1\n"
     ]
    }
   ],
   "source": [
    "data = {\n",
    "    'Date': ['2025-04-20', '2025-04-20', '2025-04-21', '2025-04-21', '2025-04-22'],\n",
    "    'Product': ['Laptop', 'Mouse', 'Laptop', 'Monitor', 'Keyboard'],\n",
    "    'Sales': [2, 10, 3, 1, 5]\n",
    "}\n",
    "\n",
    "# Create DataFrame\n",
    "sales_df = pd.DataFrame(data)\n",
    "print(\"🧾Sales : \\n\",sales_df)\n",
    "product_group = sales_df.groupby('Product')['Sales'].sum().reset_index()\n",
    "product_group = product_group.sort_values(by='Sales', ascending=False)\n",
    "# Show the DataFrame\n",
    "print(\"\\n product group : \\n\\n\",product_group)\n"
   ]
  },
  {
   "cell_type": "markdown",
   "id": "2d2a2c8d",
   "metadata": {},
   "source": [
    "## Task 5: DataFrame Merging and Joining\n",
    "• Objective: Merge multiple DataFrames.\n",
    "• Instructions:\n",
    "1. Create three DataFrames: Students (ID, Name), Scores (ID, Score), and\n",
    "Courses (ID, Course).\n",
    "2. Merge these DataFrames to create a comprehensive view containing student\n",
    "names, scores, and courses.\n",
    "3. Handle any potential duplicates in the merging process."
   ]
  },
  {
   "cell_type": "code",
   "execution_count": 82,
   "id": "cdd3f420",
   "metadata": {},
   "outputs": [
    {
     "name": "stdout",
     "output_type": "stream",
     "text": [
      "comprehensive std data : \n",
      "✅ Cleaned and Merged Data:\n",
      "   id std_name  score courses\n",
      "0   1    std_1    111      c1\n",
      "1   2    std_2    111      c2\n",
      "2   3    std_3    333      c3\n",
      "3   4    std_4    444      c4\n"
     ]
    }
   ],
   "source": [
    "stds={\n",
    "    'id':[1,2,3,4],\n",
    "    'std_name':['std_1','std_2','std_3','std_4']\n",
    "}\n",
    "score={\n",
    "    'id':[1,2,3,4],\n",
    "    'score':[111,111,333,444]\n",
    "}\n",
    "courses={\n",
    "    'id':[1,2,3,4],\n",
    "    'courses':['c1','c2','c3','c4']\n",
    "}\n",
    "stds=pd.DataFrame(stds)\n",
    "score=pd.DataFrame(score)\n",
    "courses=pd.DataFrame(courses)\n",
    "# # print(pd.DataFrame(stds))\n",
    "# print(pd.DataFrame(score))\n",
    "# print(pd.DataFrame(courses))\n",
    "print('comprehensive std data : ')\n",
    "merged_df=pd.merge(stds,score,on='id')\n",
    "merged_df=pd.merge(merged_df,courses,on='id')\n",
    "merged_df = merged_df.drop_duplicates()\n",
    "\n",
    "# Display the final DataFrame\n",
    "print(\"✅ Cleaned and Merged Data:\")\n",
    "print(merged_df)"
   ]
  },
  {
   "cell_type": "markdown",
   "id": "b424aa75",
   "metadata": {},
   "source": [
    "## Task 6: Handling Missing Data\n",
    "• Objective: Clean a DataFrame by handling missing data.\n",
    "• Instructions:\n",
    "1. Create a DataFrame that includes some NaN values.\n",
    "2. Practice filling missing values with the mean or median of the column.\n",
    "3. Drop rows or columns with missing values and display the cleaned\n",
    "DataFrame."
   ]
  },
  {
   "cell_type": "code",
   "execution_count": 118,
   "id": "189e5fd9",
   "metadata": {},
   "outputs": [
    {
     "name": "stdout",
     "output_type": "stream",
     "text": [
      "Original DataFrame:\n",
      "\n",
      "       Name   Age         City\n",
      "0    Alice  25.0     New York\n",
      "1      Bob   NaN  Los Angeles\n",
      "2  Charlie  30.0          NaN\n",
      "3    David  22.0      Chicago\n",
      "\n",
      "🔸 DataFrame after filling missing values:\n",
      "      Name   Age         City\n",
      "0    Alice  25.0     New York\n",
      "1      Bob   NaN  Los Angeles\n",
      "2  Charlie  30.0          NaN\n",
      "3    David  22.0      Chicago\n",
      "\n",
      "🔸 -------- \n",
      "\n",
      "\n",
      "🔸 DataFrame after dropping missing values:\n",
      "    Name   Age      City\n",
      "0  Alice  25.0  New York\n",
      "3  David  22.0   Chicago\n"
     ]
    }
   ],
   "source": [
    "data = {\n",
    "    'Name': ['Alice', 'Bob', 'Charlie', 'David'],\n",
    "    'Age': [25, np.nan, 30, 22],\n",
    "    'City': ['New York', 'Los Angeles', np.nan, 'Chicago']\n",
    "}\n",
    "df = pd.DataFrame(data)\n",
    "print(\"Original DataFrame:\\n\\n\", df)\n",
    "\n",
    "# Fill missing values\n",
    "mean_age = round(df['Age'].mean(), 2)\n",
    "mode_city = df['City'].mode()[0]\n",
    "\n",
    "df['Age'].fillna(mean_age)\n",
    "df['City'].fillna(mode_city)\n",
    "\n",
    "print(\"\\n🔸 DataFrame after filling missing values:\")\n",
    "print(df)\n",
    "print(\"\\n🔸 -------- \\n\")\n",
    "print(\"\\n🔸 DataFrame after dropping missing values:\")\n",
    "dropped=df.dropna()\n",
    "print(dropped)\n"
   ]
  },
  {
   "cell_type": "markdown",
   "id": "91b0cf6a",
   "metadata": {},
   "source": [
    "## Task 7: Visualization\n",
    "• Objective: Visualize data using Pandas.\n",
    "• Instructions:\n",
    "1. Use a DataFrame with sales data.\n",
    "2. Create a bar chart showing total sales per product using the Pandas built-in\n",
    "plotting capabilities."
   ]
  },
  {
   "cell_type": "code",
   "execution_count": null,
   "id": "6b276eb6",
   "metadata": {},
   "outputs": [],
   "source": [
    "# Step 1: Create sample sales data\n",
    "data = {\n",
    "    'Product': ['A', 'B', 'A', 'C', 'B', 'C', 'A'],\n",
    "    'Sales': [100, 150, 120, 130, 200, 170, 90]\n",
    "}\n",
    "\n",
    "df = pd.DataFrame(data)\n",
    "\n",
    "# Step 2: Group by Product and sum the sales\n",
    "product_sales = df.groupby('Product')['Sales'].sum()\n",
    "# Step 3: Create a bar chart\n",
    "product_sales.plot(kind='bar', title='📊 Total Sales Per Product', color='skyblue', figsize=(8, 5))\n",
    "\n",
    "# Add labels and show the plot\n",
    "plt.xlabel('Product')\n",
    "plt.ylabel('Total Sales')\n",
    "plt.tight_layout()\n",
    "plt.show()\n"
   ]
  },
  {
   "cell_type": "markdown",
   "id": "b6307db1",
   "metadata": {},
   "source": [
    "## Task 8: Time Series Analysis\n",
    "• Objective: Work with time series data.\n",
    "• Instructions:\n",
    "1. Create a DataFrame with a date range and random sales data.\n",
    "2. Set the date as the index and resample the data to get monthly totals."
   ]
  },
  {
   "cell_type": "code",
   "execution_count": 15,
   "id": "826a7b31",
   "metadata": {},
   "outputs": [
    {
     "name": "stdout",
     "output_type": "stream",
     "text": [
      "DataFrame with Date Range:\n",
      "         Date  Sales\n",
      "0 2025-04-20     30\n",
      "1 2025-04-21     53\n",
      "2 2025-04-22     69\n",
      "3 2025-04-23      8\n",
      "4 2025-04-24     60\n",
      "5 2025-04-25     57\n",
      "6 2025-04-26     89\n",
      "7 2025-04-27     58\n",
      "8 2025-04-28     19\n",
      "9 2025-04-29     81\n",
      "📅 Monthly Total Sales:\n",
      "\n",
      "            Sales\n",
      "Date             \n",
      "2025-04-30    524\n"
     ]
    }
   ],
   "source": [
    "date=pd.date_range(start='2025-04-20', periods=10)\n",
    "sales=np.random.randint(1, 100, size=10)\n",
    "df = pd.DataFrame({'Date': date, 'Sales': sales})\n",
    "print(\"DataFrame with Date Range:\\n\", df)\n",
    "\n",
    "# 3. Set 'Date' as index\n",
    "df.set_index('Date', inplace=True)\n",
    "# 4. Resample to monthly totals\n",
    "monthly_sales = df.resample('ME').sum()\n",
    "\n",
    "# 5. Display results\n",
    "print(\"📅 Monthly Total Sales:\\n\")\n",
    "print(monthly_sales)\n"
   ]
  },
  {
   "cell_type": "markdown",
   "id": "e273e834",
   "metadata": {},
   "source": []
  },
  {
   "cell_type": "code",
   "execution_count": 22,
   "id": "c14fdf2b",
   "metadata": {},
   "outputs": [
    {
     "name": "stdout",
     "output_type": "stream",
     "text": [
      "Filtered DataFrame:\n",
      "   Employee Department  Salary  Years_of_Service\n",
      "1      Bob         IT   75000                 7\n",
      "2  Charlie    Finance   62000                 6\n",
      "4      Eve         IT   80000                 8\n",
      "\n",
      "📌 Selected Rows & Columns using .loc:\n",
      "   Employee Department\n",
      "1      Bob         IT\n",
      "2  Charlie    Finance\n",
      "4      Eve         IT\n"
     ]
    }
   ],
   "source": [
    "data = {\n",
    "    'Employee': ['Alice', 'Bob', 'Charlie', 'David', 'Eve'],\n",
    "    'Department': ['HR', 'IT', 'Finance', 'Marketing', 'IT'],\n",
    "    'Salary': [55000, 75000, 62000, 48000, 80000],\n",
    "    'Years_of_Service': [3, 7, 6, 2, 8]\n",
    "}\n",
    "\n",
    "df = pd.DataFrame(data)\n",
    "filtered_df = df[(df['Salary'] > 60000) & (df['Years_of_Service'] > 5)]\n",
    "print(\"Filtered DataFrame:\\n\", filtered_df)\n",
    "# Example: Select the names and departments of employees from the filtered data\n",
    "selected_data = filtered_df.loc[:, ['Employee', 'Department']]\n",
    "print(\"\\n📌 Selected Rows & Columns using .loc:\\n\", selected_data)"
   ]
  },
  {
   "cell_type": "markdown",
   "id": "5ee6d8cf",
   "metadata": {},
   "source": [
    "## Task 10: String Manipulation\n",
    "• Objective: Perform string operations in a DataFrame.\n",
    "• Instructions:\n",
    "1. Create a DataFrame with a column of employee names that include both first\n",
    "and last names.\n",
    "2. Split the names into two separate columns: First Name and Last Name.\n",
    "3. Create a new column that contains the initials of each employee."
   ]
  },
  {
   "cell_type": "code",
   "execution_count": 29,
   "id": "86c47fc5",
   "metadata": {},
   "outputs": [
    {
     "name": "stdout",
     "output_type": "stream",
     "text": [
      "📋 Employee Full Names DataFrame:\n",
      "\n",
      "    EmployeeName   f_name   l_name Initials\n",
      "0  Alice Johnson    Alice  Johnson       AJ\n",
      "1      Bob Smith      Bob    Smith       BS\n",
      "2    Charlie Lee  Charlie      Lee       CL\n",
      "3    David Brown    David    Brown       DB\n",
      "4      Eve Davis      Eve    Davis       ED\n"
     ]
    }
   ],
   "source": [
    "data = {\n",
    "    'EmployeeName': ['Alice Johnson', 'Bob Smith', 'Charlie Lee', 'David Brown', 'Eve Davis']\n",
    "}\n",
    "\n",
    "# 2. Convert it to a DataFrame\n",
    "df = pd.DataFrame(data)\n",
    "df[['f_name','l_name']]=df['EmployeeName'].str.split(' ', expand=True)\n",
    "# Create a new column for initials\n",
    "df['Initials'] = df['f_name'].str[0] + df['l_name'].str[0]\n",
    "# 3. Display the DataFrame\n",
    "print(\"📋 Employee Full Names DataFrame:\\n\")\n",
    "print(df)"
   ]
  },
  {
   "cell_type": "markdown",
   "id": "03725687",
   "metadata": {},
   "source": [
    "## Task 11: Conditional Column Creation\n",
    "• Objective: Create columns based on conditions.\n",
    "• Instructions:\n",
    "1. Create a DataFrame with student grades.\n",
    "2. Add a new column called Pass/Fail based on whether the grade is above a\n",
    "certain threshold (e.g., 50).\n",
    "3. Use a function to categorize grades into A, B, C, D, and F based on their\n",
    "values."
   ]
  },
  {
   "cell_type": "code",
   "execution_count": 32,
   "id": "fdd5b3f5",
   "metadata": {},
   "outputs": [
    {
     "name": "stdout",
     "output_type": "stream",
     "text": [
      "🎓 Student Grades with Pass/Fail and Grade Category:\n",
      "\n",
      "   Student  Grade Pass/Fail Grade Category\n",
      "0    Alice     85      Pass              B\n",
      "1      Bob     42      Fail              F\n",
      "2  Charlie     73      Pass              C\n",
      "3    David     91      Pass              A\n",
      "4      Eve     58      Pass              F\n"
     ]
    }
   ],
   "source": [
    "# Step 1: Create a DataFrame with student grades\n",
    "data = {\n",
    "    'Student': ['Alice', 'Bob', 'Charlie', 'David', 'Eve'],\n",
    "    'Grade': [85, 42, 73, 91, 58]\n",
    "}\n",
    "\n",
    "df = pd.DataFrame(data)\n",
    "\n",
    "# Step 2: Add a new column 'Pass/Fail'\n",
    "df['Pass/Fail'] = df['Grade'].apply(lambda x: 'Pass' if x >= 50 else 'Fail')\n",
    "\n",
    "# Step 3: Categorize grades into A, B, C, D, and F\n",
    "def grade_category(score):\n",
    "    if score >= 90:\n",
    "        return 'A'\n",
    "    elif score >= 80:\n",
    "        return 'B'\n",
    "    elif score >= 70:\n",
    "        return 'C'\n",
    "    elif score >= 60:\n",
    "        return 'D'\n",
    "    else:\n",
    "        return 'F'\n",
    "\n",
    "df['Grade Category'] = df['Grade'].apply(grade_category)\n",
    "\n",
    "# Display the final DataFrame\n",
    "print(\"🎓 Student Grades with Pass/Fail and Grade Category:\\n\")\n",
    "print(df)"
   ]
  },
  {
   "cell_type": "markdown",
   "id": "f7de5420",
   "metadata": {},
   "source": [
    "## Task 12: Handling Categorical Data\n",
    "• Objective: Work with categorical data types.\n",
    "• Instructions:\n",
    "1. Create a DataFrame with a column for Product and Category.\n",
    "2. Convert the Category column to a categorical data type.\n",
    "3. Analyze the frequency of each category and visualize the results"
   ]
  },
  {
   "cell_type": "code",
   "execution_count": null,
   "id": "c8b64e6f",
   "metadata": {},
   "outputs": [
    {
     "name": "stdout",
     "output_type": "stream",
     "text": [
      "   Product     Category\n",
      "0   Laptop  Electronics\n",
      "1    Shirt     Clothing\n",
      "2    Phone  Electronics\n",
      "3    Pants     Clothing\n",
      "4   Tablet  Electronics\n",
      "5    Shoes     Clothing\n",
      "6  Monitor  Electronics\n",
      "7    Dress     Clothing\n",
      "📊 Category Frequency:\n",
      "\n",
      "Category\n",
      "Clothing       4\n",
      "Electronics    4\n",
      "Name: count, dtype: int64\n"
     ]
    },
    {
     "data": {
      "image/png": "[encoded data removed]",
      "text/plain": [
       "<Figure size 640x480 with 1 Axes>"
      ]
     },
     "metadata": {},
     "output_type": "display_data"
    }
   ],
   "source": [
    "\n",
    "# Step 1: Create a DataFrame with Product and Category columns\n",
    "data = {\n",
    "    'Product': ['Laptop', 'Shirt', 'Phone', 'Pants', 'Tablet', 'Shoes', 'Monitor', 'Dress'],\n",
    "    'Category': ['Electronics', 'Clothing', 'Electronics', 'Clothing', 'Electronics', 'Clothing', 'Electronics', 'Clothing']\n",
    "}\n",
    "\n",
    "df = pd.DataFrame(data)\n",
    "\n",
    "# Step 2: Convert 'Category' to a categorical data type\n",
    "df['Category'] = df['Category'].astype('category')\n",
    "\n",
    "# Step 3: Analyze frequency of each category\n",
    "category_counts = df['Category'].value_counts()\n",
    "\n",
    "print(\"📊 Category Frequency:\\n\")\n",
    "print(category_counts)\n",
    "\n",
    "# Step 4: Visualize the results\n",
    "category_counts.plot(kind='bar', color=['skyblue', 'salmon'])\n",
    "plt.title(\"Product Category Frequency\")\n",
    "plt.xlabel(\"Category\")\n",
    "plt.ylabel(\"Count\")\n",
    "plt.xticks(rotation=0)\n",
    "plt.tight_layout()\n",
    "plt.show()\n"
   ]
  },
  {
   "cell_type": "markdown",
   "id": "79d2d17f",
   "metadata": {},
   "source": [
    "## Task 13: Custom Aggregations\n",
    "• Objective: Use custom aggregation functions.\n",
    "• Instructions:\n",
    "1. Load a DataFrame containing sales data with columns: Product, Sales, and\n",
    "Quantity.\n",
    "2. Group the data by Product and create a custom aggregation function that\n",
    "calculates the profit (Sales - Cost).\n",
    "3. Display the results in a new DataFrame."
   ]
  },
  {
   "cell_type": "code",
   "execution_count": 40,
   "id": "67d0b73b",
   "metadata": {},
   "outputs": [
    {
     "name": "stdout",
     "output_type": "stream",
     "text": [
      "📦 Product-wise Profit Analysis:\n",
      "\n",
      "  Product  Total Sales  Total Cost  Total Quantity  Profit\n",
      "0       A          650         390               7     260\n",
      "1       B          320         170               3     150\n",
      "2       C          390         210               2     180\n"
     ]
    },
    {
     "name": "stderr",
     "output_type": "stream",
     "text": [
      "C:\\Users\\My pc\\AppData\\Local\\Temp\\ipykernel_16288\\935257909.py:24: DeprecationWarning: DataFrameGroupBy.apply operated on the grouping columns. This behavior is deprecated, and in a future version of pandas the grouping columns will be excluded from the operation. Either pass `include_groups=False` to exclude the groupings or explicitly select the grouping columns after groupby to silence this warning.\n",
      "  result_df = df.groupby('Product', group_keys=False).apply(profit_agg).reset_index()\n"
     ]
    }
   ],
   "source": [
    "\n",
    "# Step 1: Create sample sales data\n",
    "data = {\n",
    "    'Product': ['A', 'B', 'A', 'C', 'B', 'C', 'A'],\n",
    "    'Sales': [200, 150, 220, 180, 170, 210, 230],\n",
    "    'Cost': [120, 90, 140, 100, 80, 110, 130],\n",
    "    'Quantity': [2, 1, 3, 1, 2, 1, 2]\n",
    "}\n",
    "\n",
    "df = pd.DataFrame(data)\n",
    "\n",
    "# Step 2: Group by Product and calculate custom aggregation\n",
    "def profit_agg(x):\n",
    "    total_sales = x['Sales'].sum()\n",
    "    total_cost = x['Cost'].sum()\n",
    "    total_quantity = x['Quantity'].sum()\n",
    "    profit = total_sales - total_cost\n",
    "    return pd.Series({\n",
    "        'Total Sales': total_sales,\n",
    "        'Total Cost': total_cost,\n",
    "        'Total Quantity': total_quantity,\n",
    "        'Profit': profit\n",
    "    })\n",
    "    \n",
    "result_df = df.groupby('Product', group_keys=False).apply(profit_agg).reset_index()\n",
    "\n",
    "\n",
    "# Step 3: Display the result\n",
    "print(\"📦 Product-wise Profit Analysis:\\n\")\n",
    "print(result_df)\n"
   ]
  }
 ],
 "metadata": {
  "kernelspec": {
   "display_name": "venv",
   "language": "python",
   "name": "python3"
  },
  "language_info": {
   "codemirror_mode": {
    "name": "ipython",
    "version": 3
   },
   "file_extension": ".py",
   "mimetype": "text/x-python",
   "name": "python",
   "nbconvert_exporter": "python",
   "pygments_lexer": "ipython3",
   "version": "3.12.6"
  }
 },
 "nbformat": 4,
 "nbformat_minor": 5
}
