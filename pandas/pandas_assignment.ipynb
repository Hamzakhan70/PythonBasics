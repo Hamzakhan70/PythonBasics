{
 "cells": [
  {
   "cell_type": "code",
   "execution_count": 11,
   "id": "d3588930",
   "metadata": {},
   "outputs": [],
   "source": [
    "import pandas as pd\n",
    "import numpy as np"
   ]
  },
  {
   "cell_type": "markdown",
   "id": "5689d29e",
   "metadata": {},
   "source": [
    "## Pandas Assignment"
   ]
  },
  {
   "cell_type": "markdown",
   "id": "4f6d9c04",
   "metadata": {},
   "source": [
    "## Task 1: Creating a DataFrame\n",
    "• Objective: Create a DataFrame from a dictionary.\n",
    "\n",
    "• Instructions:\n",
    "\n",
    "1. Create a dictionary with the following data:\n",
    "▪ Names: Alice, Bob, Charlie\n",
    "▪ Ages: 24, 30, 22\n",
    "▪ Cities: New York, Los Angeles, Chicago\n",
    "2. Convert this dictionary into a Pandas DataFrame."
   ]
  },
  {
   "cell_type": "code",
   "execution_count": 10,
   "id": "17a33ea4",
   "metadata": {},
   "outputs": [
    {
     "name": "stdout",
     "output_type": "stream",
     "text": [
      "{'Names': ['Alice', 'Bob', 'Charlie'], 'Ages': [24, 30, 22], 'Cities': ['New York', 'Los Angeles', 'Chicago']}\n",
      "     Names  Ages       Cities\n",
      "0    Alice    24     New York\n",
      "1      Bob    30  Los Angeles\n",
      "2  Charlie    22      Chicago\n"
     ]
    }
   ],
   "source": [
    "# Creating the dictionary\n",
    "people = {\n",
    "    \"Names\": [\"Alice\", \"Bob\", \"Charlie\"],\n",
    "    \"Ages\": [24, 30, 22],\n",
    "    \"Cities\": [\"New York\", \"Los Angeles\", \"Chicago\"]\n",
    "}\n",
    "\n",
    "# Displaying the dictionary\n",
    "print(people)\n",
    "df=pd.DataFrame(people)\n",
    "print(df)"
   ]
  },
  {
   "cell_type": "markdown",
   "id": "e084fbf4",
   "metadata": {},
   "source": [
    "## Task 2: Data Exploration == Objective: Explore a DataFrame.\n",
    "\n",
    "• Instructions:\n",
    "\n",
    "1. Load a CSV file (e.g., students.csv) containing student data (name, grade,\n",
    "age).\n",
    "2. Use Pandas functions to:\n",
    "▪ Display the first 5 rows.\n",
    "▪ Get a summary of the DataFrame.\n",
    "▪ Check for missing values"
   ]
  },
  {
   "cell_type": "code",
   "execution_count": 27,
   "id": "9215a166",
   "metadata": {},
   "outputs": [
    {
     "name": "stdout",
     "output_type": "stream",
     "text": [
      "🧾 First 5 Rows:\n",
      "\n",
      " 🧾📊 Summary Info:\n",
      "\n",
      "📈🧾 Statistical Summary:\n",
      "\n",
      "🔍🧾 Missing Values:\n",
      "id                      0\n",
      "name                    0\n",
      "nationality             0\n",
      "city                    0\n",
      "latitude                0\n",
      "longitude               0\n",
      "gender                  0\n",
      "ethnic.group          307\n",
      "age                     0\n",
      "english.grade           0\n",
      "math.grade              0\n",
      "sciences.grade          0\n",
      "language.grade          0\n",
      "portfolio.rating        0\n",
      "coverletter.rating      0\n",
      "refletter.rating        0\n"
     ]
    }
   ],
   "source": [
    "import pandas as pd\n",
    "\n",
    "# 1. Load the CSV file\n",
    "df = pd.read_csv('./student-dataset.csv')\n",
    "\n",
    "# 2. Display the first 5 rows\n",
    "print(\"🧾 First 5 Rows:\")\n",
    "# print(df.head())\n",
    "\n",
    "# 3. Get a summary of the DataFrame\n",
    "print(\"\\n 🧾📊 Summary Info:\")\n",
    "# print(df.info())\n",
    "\n",
    "# 4. Describe numerical columns (like grade, age)\n",
    "print(\"\\n📈🧾 Statistical Summary:\")\n",
    "# print(df.describe())\n",
    "\n",
    "# 5. Check for missing values\n",
    "print(\"\\n🔍🧾 Missing Values:\")\n",
    "print(df.isnull().sum().to_string())\n"
   ]
  },
  {
   "cell_type": "markdown",
   "id": "ef92d329",
   "metadata": {},
   "source": [
    "## Task 3: Data Manipulation\n",
    "• Objective: Perform basic data manipulation.\n",
    "\n",
    "• Instructions:\n",
    "1. Create a DataFrame with columns for Product, Price, and Quantity.\n",
    "2. Add a new column called Total that calculates the total price for each product\n",
    "(Price * Quantity).\n",
    "3. Filter the DataFrame to show only products with a total price greater than\n",
    "$100."
   ]
  },
  {
   "cell_type": "code",
   "execution_count": 54,
   "id": "d5b14ee6",
   "metadata": {},
   "outputs": [
    {
     "name": "stdout",
     "output_type": "stream",
     "text": [
      "Complete Data : \n",
      "     Product  Price  Quantity\n",
      "0    Laptop    800         1\n",
      "1     Mouse     20         5\n",
      "2  Keyboard     45         2\n",
      "3   Monitor    150         1\n",
      "4     Chair     75         2\n",
      "Complete Data with Total : \n",
      "     Product  Price  Quantity  total\n",
      "0    Laptop    800         1    800\n",
      "1     Mouse     20         5    100\n",
      "2  Keyboard     45         2     90\n",
      "3   Monitor    150         1    150\n",
      "4     Chair     75         2    150\n",
      "Filtered_Data : \n",
      "    Product  Price  Quantity  total\n",
      "0   Laptop    800         1    800\n",
      "3  Monitor    150         1    150\n",
      "4    Chair     75         2    150\n"
     ]
    }
   ],
   "source": [
    "data = {\n",
    "    'Product': ['Laptop', 'Mouse', 'Keyboard', 'Monitor', 'Chair'],\n",
    "    'Price': [800, 20, 45, 150, 75],\n",
    "    'Quantity': [1, 5, 2, 1, 2]\n",
    "}\n",
    "df=pd.DataFrame(data)\n",
    "print('Complete Data : \\n',df)\n",
    "df['total']=df['Price'] * df['Quantity']\n",
    "print('Complete Data with Total : \\n',df)\n",
    "filtered_df=df[df['total']>100]\n",
    "print('Filtered_Data : \\n',filtered_df)"
   ]
  },
  {
   "cell_type": "markdown",
   "id": "4eaac8c6",
   "metadata": {},
   "source": [
    "## Task 4: Grouping Data\n",
    "• Objective: Group data and calculate statistics.\n",
    "\n",
    "• Instructions:\n",
    "\n",
    "1. Use a DataFrame containing sales data with columns for Date, Product, and\n",
    "Sales.\n",
    "2. Group the data by Product and calculate the total sales for each product.\n",
    "3. Sort the results in descending order."
   ]
  },
  {
   "cell_type": "code",
   "execution_count": 71,
   "id": "111b1589",
   "metadata": {},
   "outputs": [
    {
     "name": "stdout",
     "output_type": "stream",
     "text": [
      "🧾Sales : \n",
      "          Date   Product  Sales\n",
      "0  2025-04-20    Laptop      2\n",
      "1  2025-04-20     Mouse     10\n",
      "2  2025-04-21    Laptop      3\n",
      "3  2025-04-21   Monitor      1\n",
      "4  2025-04-22  Keyboard      5\n",
      "\n",
      " product group : \n",
      "\n",
      "     Product  Sales\n",
      "3     Mouse     10\n",
      "0  Keyboard      5\n",
      "1    Laptop      5\n",
      "2   Monitor      1\n"
     ]
    }
   ],
   "source": [
    "data = {\n",
    "    'Date': ['2025-04-20', '2025-04-20', '2025-04-21', '2025-04-21', '2025-04-22'],\n",
    "    'Product': ['Laptop', 'Mouse', 'Laptop', 'Monitor', 'Keyboard'],\n",
    "    'Sales': [2, 10, 3, 1, 5]\n",
    "}\n",
    "\n",
    "# Create DataFrame\n",
    "sales_df = pd.DataFrame(data)\n",
    "print(\"🧾Sales : \\n\",sales_df)\n",
    "product_group = sales_df.groupby('Product')['Sales'].sum().reset_index()\n",
    "product_group = product_group.sort_values(by='Sales', ascending=False)\n",
    "# Show the DataFrame\n",
    "print(\"\\n product group : \\n\\n\",product_group)\n"
   ]
  },
  {
   "cell_type": "markdown",
   "id": "2d2a2c8d",
   "metadata": {},
   "source": [
    "## Task 5: DataFrame Merging and Joining\n",
    "• Objective: Merge multiple DataFrames.\n",
    "• Instructions:\n",
    "1. Create three DataFrames: Students (ID, Name), Scores (ID, Score), and\n",
    "Courses (ID, Course).\n",
    "2. Merge these DataFrames to create a comprehensive view containing student\n",
    "names, scores, and courses.\n",
    "3. Handle any potential duplicates in the merging process."
   ]
  },
  {
   "cell_type": "code",
   "execution_count": 82,
   "id": "cdd3f420",
   "metadata": {},
   "outputs": [
    {
     "name": "stdout",
     "output_type": "stream",
     "text": [
      "comprehensive std data : \n",
      "✅ Cleaned and Merged Data:\n",
      "   id std_name  score courses\n",
      "0   1    std_1    111      c1\n",
      "1   2    std_2    111      c2\n",
      "2   3    std_3    333      c3\n",
      "3   4    std_4    444      c4\n"
     ]
    }
   ],
   "source": [
    "stds={\n",
    "    'id':[1,2,3,4],\n",
    "    'std_name':['std_1','std_2','std_3','std_4']\n",
    "}\n",
    "score={\n",
    "    'id':[1,2,3,4],\n",
    "    'score':[111,111,333,444]\n",
    "}\n",
    "courses={\n",
    "    'id':[1,2,3,4],\n",
    "    'courses':['c1','c2','c3','c4']\n",
    "}\n",
    "stds=pd.DataFrame(stds)\n",
    "score=pd.DataFrame(score)\n",
    "courses=pd.DataFrame(courses)\n",
    "# # print(pd.DataFrame(stds))\n",
    "# print(pd.DataFrame(score))\n",
    "# print(pd.DataFrame(courses))\n",
    "print('comprehensive std data : ')\n",
    "merged_df=pd.merge(stds,score,on='id')\n",
    "merged_df=pd.merge(merged_df,courses,on='id')\n",
    "merged_df = merged_df.drop_duplicates()\n",
    "\n",
    "# Display the final DataFrame\n",
    "print(\"✅ Cleaned and Merged Data:\")\n",
    "print(merged_df)"
   ]
  },
  {
   "cell_type": "markdown",
   "id": "b424aa75",
   "metadata": {},
   "source": [
    "## Task 6: Handling Missing Data\n",
    "• Objective: Clean a DataFrame by handling missing data.\n",
    "• Instructions:\n",
    "1. Create a DataFrame that includes some NaN values.\n",
    "2. Practice filling missing values with the mean or median of the column.\n",
    "3. Drop rows or columns with missing values and display the cleaned\n",
    "DataFrame."
   ]
  },
  {
   "cell_type": "code",
   "execution_count": 118,
   "id": "189e5fd9",
   "metadata": {},
   "outputs": [
    {
     "name": "stdout",
     "output_type": "stream",
     "text": [
      "Original DataFrame:\n",
      "\n",
      "       Name   Age         City\n",
      "0    Alice  25.0     New York\n",
      "1      Bob   NaN  Los Angeles\n",
      "2  Charlie  30.0          NaN\n",
      "3    David  22.0      Chicago\n",
      "\n",
      "🔸 DataFrame after filling missing values:\n",
      "      Name   Age         City\n",
      "0    Alice  25.0     New York\n",
      "1      Bob   NaN  Los Angeles\n",
      "2  Charlie  30.0          NaN\n",
      "3    David  22.0      Chicago\n",
      "\n",
      "🔸 -------- \n",
      "\n",
      "\n",
      "🔸 DataFrame after dropping missing values:\n",
      "    Name   Age      City\n",
      "0  Alice  25.0  New York\n",
      "3  David  22.0   Chicago\n"
     ]
    }
   ],
   "source": [
    "data = {\n",
    "    'Name': ['Alice', 'Bob', 'Charlie', 'David'],\n",
    "    'Age': [25, np.nan, 30, 22],\n",
    "    'City': ['New York', 'Los Angeles', np.nan, 'Chicago']\n",
    "}\n",
    "df = pd.DataFrame(data)\n",
    "print(\"Original DataFrame:\\n\\n\", df)\n",
    "\n",
    "# Fill missing values\n",
    "mean_age = round(df['Age'].mean(), 2)\n",
    "mode_city = df['City'].mode()[0]\n",
    "\n",
    "df['Age'].fillna(mean_age)\n",
    "df['City'].fillna(mode_city)\n",
    "\n",
    "print(\"\\n🔸 DataFrame after filling missing values:\")\n",
    "print(df)\n",
    "print(\"\\n🔸 -------- \\n\")\n",
    "print(\"\\n🔸 DataFrame after dropping missing values:\")\n",
    "dropped=df.dropna()\n",
    "print(dropped)\n"
   ]
  },
  {
   "cell_type": "markdown",
   "id": "91b0cf6a",
   "metadata": {},
   "source": [
    "## Task 7: Visualization\n",
    "• Objective: Visualize data using Pandas.\n",
    "• Instructions:\n",
    "1. Use a DataFrame with sales data.\n",
    "2. Create a bar chart showing total sales per product using the Pandas built-in\n",
    "plotting capabilities."
   ]
  },
  {
   "cell_type": "code",
   "execution_count": null,
   "id": "2518a706",
   "metadata": {},
   "outputs": [],
   "source": []
  }
 ],
 "metadata": {
  "kernelspec": {
   "display_name": "venv",
   "language": "python",
   "name": "python3"
  },
  "language_info": {
   "codemirror_mode": {
    "name": "ipython",
    "version": 3
   },
   "file_extension": ".py",
   "mimetype": "text/x-python",
   "name": "python",
   "nbconvert_exporter": "python",
   "pygments_lexer": "ipython3",
   "version": "3.12.6"
  }
 },
 "nbformat": 4,
 "nbformat_minor": 5
}
